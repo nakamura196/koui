{
 "cells": [
  {
   "cell_type": "code",
   "execution_count": null,
   "metadata": {},
   "outputs": [],
   "source": [
    "#| hide\n",
    "from koui.api import *"
   ]
  },
  {
   "cell_type": "code",
   "execution_count": null,
   "metadata": {},
   "outputs": [],
   "source": [
    "# rm -rf koui*\n",
    "# pip install -e '.[dev]'"
   ]
  },
  {
   "cell_type": "code",
   "execution_count": null,
   "metadata": {},
   "outputs": [],
   "source": [
    "#| hide\n",
    "from nbdev.showdoc import *"
   ]
  },
  {
   "cell_type": "markdown",
   "metadata": {},
   "source": [
    "# 校異情報ライブラリ\n",
    "\n",
    "> Tools for working with text difference"
   ]
  },
  {
   "cell_type": "markdown",
   "metadata": {},
   "source": [
    "日本語のマニュアルは以下です。\n",
    "\n",
    "[https://zenn.dev/nakamura196/articles/442da1c74afae1](https://zenn.dev/nakamura196/articles/442da1c74afae1)"
   ]
  },
  {
   "cell_type": "markdown",
   "metadata": {},
   "source": [
    "## Install"
   ]
  },
  {
   "cell_type": "markdown",
   "metadata": {},
   "source": [
    "```sh\n",
    "pip install koui\n",
    "```"
   ]
  },
  {
   "cell_type": "markdown",
   "metadata": {},
   "source": [
    "## How to use"
   ]
  },
  {
   "cell_type": "markdown",
   "metadata": {},
   "source": [
    "[See the documentation](api.html) for full details of the Omeka API Client."
   ]
  },
  {
   "cell_type": "code",
   "execution_count": null,
   "metadata": {},
   "outputs": [],
   "source": [
    "from koui.api import KouiAPIClient"
   ]
  },
  {
   "cell_type": "markdown",
   "metadata": {},
   "source": [
    "## 比較するテキストの名前とテキストを入力してください。"
   ]
  },
  {
   "cell_type": "code",
   "execution_count": null,
   "metadata": {},
   "outputs": [],
   "source": [
    "name_1 = \"中村式五十音\"\n",
    "text_1 = '''あいうえお\n",
    "かきくけこ\n",
    "さしすせそ\n",
    "たちぬてと'''"
   ]
  },
  {
   "cell_type": "code",
   "execution_count": null,
   "metadata": {},
   "outputs": [],
   "source": [
    "name_2 = \"中村式五十音又様\"\n",
    "text_2 = '''あいうえお\n",
    "こけきくか\n",
    "さしすせそ\n",
    "たじづてと'''"
   ]
  },
  {
   "cell_type": "code",
   "execution_count": null,
   "metadata": {},
   "outputs": [
    {
     "data": {
      "text/markdown": [
       "---\n",
       "\n",
       "### KouiAPIClient.convert\n",
       "\n",
       ">      KouiAPIClient.convert (name_1, text_1, name_2, text_2, output='html')\n",
       "\n",
       "2つのテキストを比較して、xmlまたはhtmlを出力する\n",
       "\n",
       "|    | **Type** | **Default** | **Details** |\n",
       "| -- | -------- | ----------- | ----------- |\n",
       "| name_1 | str |  | テキスト1の名前 |\n",
       "| text_1 | str |  | テキスト1 |\n",
       "| name_2 | str |  | テキスト2の名前 |\n",
       "| text_2 | str |  | テキスト2 |\n",
       "| output | str | html | 出力形式(xmlまたはhtml), by default \"html\" |\n",
       "| **Returns** | **bs4.BeautifulSoup** |  | **xmlまたはhtml** |"
      ],
      "text/plain": [
       "---\n",
       "\n",
       "### KouiAPIClient.convert\n",
       "\n",
       ">      KouiAPIClient.convert (name_1, text_1, name_2, text_2, output='html')\n",
       "\n",
       "2つのテキストを比較して、xmlまたはhtmlを出力する\n",
       "\n",
       "|    | **Type** | **Default** | **Details** |\n",
       "| -- | -------- | ----------- | ----------- |\n",
       "| name_1 | str |  | テキスト1の名前 |\n",
       "| text_1 | str |  | テキスト1 |\n",
       "| name_2 | str |  | テキスト2の名前 |\n",
       "| text_2 | str |  | テキスト2 |\n",
       "| output | str | html | 出力形式(xmlまたはhtml), by default \"html\" |\n",
       "| **Returns** | **bs4.BeautifulSoup** |  | **xmlまたはhtml** |"
      ]
     },
     "execution_count": null,
     "metadata": {},
     "output_type": "execute_result"
    }
   ],
   "source": [
    "show_doc(KouiAPIClient.convert)"
   ]
  },
  {
   "cell_type": "code",
   "execution_count": null,
   "metadata": {},
   "outputs": [
    {
     "data": {
      "text/markdown": [
       "---\n",
       "\n",
       "### KouiAPIClient.save\n",
       "\n",
       ">      KouiAPIClient.save (soup, path)\n",
       "\n",
       "xmlまたはhtmlを保存する\n",
       "\n",
       "|    | **Type** | **Details** |\n",
       "| -- | -------- | ----------- |\n",
       "| soup | bs4.BeautifulSoup | xmlまたはhtml |\n",
       "| path | str | 保存先 |"
      ],
      "text/plain": [
       "---\n",
       "\n",
       "### KouiAPIClient.save\n",
       "\n",
       ">      KouiAPIClient.save (soup, path)\n",
       "\n",
       "xmlまたはhtmlを保存する\n",
       "\n",
       "|    | **Type** | **Details** |\n",
       "| -- | -------- | ----------- |\n",
       "| soup | bs4.BeautifulSoup | xmlまたはhtml |\n",
       "| path | str | 保存先 |"
      ]
     },
     "execution_count": null,
     "metadata": {},
     "output_type": "execute_result"
    }
   ],
   "source": [
    "show_doc(KouiAPIClient.save)"
   ]
  },
  {
   "cell_type": "code",
   "execution_count": null,
   "metadata": {},
   "outputs": [],
   "source": [
    "soup = KouiAPIClient.convert(name_1, text_1, name_2, text_2, \"html\")\n",
    "KouiAPIClient.save(soup, 'examples/out.html')"
   ]
  }
 ],
 "metadata": {
  "kernelspec": {
   "display_name": "Python 3.9.12 ('base')",
   "language": "python",
   "name": "python3"
  }
 },
 "nbformat": 4,
 "nbformat_minor": 4
}
